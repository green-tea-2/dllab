{
 "cells": [
  {
   "cell_type": "code",
   "execution_count": 1,
   "id": "84b73d42",
   "metadata": {},
   "outputs": [],
   "source": [
    "import numpy as np\n",
    "import matplotlib.pyplot as plt\n",
    "from ipywidgets import interactive"
   ]
  },
  {
   "cell_type": "code",
   "execution_count": 2,
   "id": "66014e80",
   "metadata": {},
   "outputs": [],
   "source": [
    "x_poly = np.linspace(-10,20,100)\n",
    "def cost_function(X):\n",
    "    return 2*X**2-2*X\n",
    "def gradient(X):\n",
    "    return (4*X) -2\n",
    "y_poly = cost_function(x_poly)\n",
    "def f(iterations,learning_rate):\n",
    "    x_path = np.empty(iterations,)\n",
    "    x_start = -4\n",
    "    x_path[0] = x_start\n",
    "    for i in range (1,iterations):\n",
    "        derivative =gradient(x_path[i-1])\n",
    "        x_path[i] = x_path[i-1]-(derivative*learning_rate)\n",
    "        x_path\n",
    "        plt.plot(x_poly,y_poly)\n",
    "        plt.plot(x_path,cost_function(x_path),'-o')"
   ]
  },
  {
   "cell_type": "code",
   "execution_count": 3,
   "id": "a9d3e90c",
   "metadata": {},
   "outputs": [
    {
     "data": {
      "application/vnd.jupyter.widget-view+json": {
       "model_id": "2fc074e137954218a7e5b8f915f1ae24",
       "version_major": 2,
       "version_minor": 0
      },
      "text/plain": [
       "interactive(children=(IntSlider(value=10, description='iterations', max=20, min=1), FloatSlider(value=0.410000…"
      ]
     },
     "execution_count": 3,
     "metadata": {},
     "output_type": "execute_result"
    }
   ],
   "source": [
    "interactive_plot = interactive(f,iterations = (1,20),learning_rate= (0.01,1,.1))\n",
    "interactive_plot"
   ]
  }
 ],
 "metadata": {
  "kernelspec": {
   "display_name": "Python 3 (ipykernel)",
   "language": "python",
   "name": "python3"
  },
  "language_info": {
   "codemirror_mode": {
    "name": "ipython",
    "version": 3
   },
   "file_extension": ".py",
   "mimetype": "text/x-python",
   "name": "python",
   "nbconvert_exporter": "python",
   "pygments_lexer": "ipython3",
   "version": "3.10.7"
  }
 },
 "nbformat": 4,
 "nbformat_minor": 5
}
