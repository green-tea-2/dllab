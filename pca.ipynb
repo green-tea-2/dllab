{
 "cells": [
  {
   "cell_type": "code",
   "execution_count": 1,
   "id": "c90da4b4",
   "metadata": {},
   "outputs": [],
   "source": [
    "import pandas as pd\n",
    "import numpy as np"
   ]
  },
  {
   "cell_type": "code",
   "execution_count": 2,
   "id": "76fa39c6",
   "metadata": {},
   "outputs": [],
   "source": [
    "d = np.random.randint([10, 25, 100], [50,35,150],size=(15,3))"
   ]
  },
  {
   "cell_type": "code",
   "execution_count": 3,
   "id": "7e89565b",
   "metadata": {},
   "outputs": [
    {
     "data": {
      "text/plain": [
       "array([[ 48,  30, 117],\n",
       "       [ 39,  32, 115],\n",
       "       [ 44,  28, 139],\n",
       "       [ 28,  33, 120],\n",
       "       [ 23,  29, 105],\n",
       "       [ 17,  34, 110],\n",
       "       [ 19,  30, 147],\n",
       "       [ 20,  29, 119],\n",
       "       [ 49,  31, 119],\n",
       "       [ 45,  29, 146],\n",
       "       [ 27,  33, 144],\n",
       "       [ 33,  27, 102],\n",
       "       [ 26,  31, 115],\n",
       "       [ 11,  28, 123],\n",
       "       [ 43,  28, 101]])"
      ]
     },
     "execution_count": 3,
     "metadata": {},
     "output_type": "execute_result"
    }
   ],
   "source": [
    "d"
   ]
  },
  {
   "cell_type": "code",
   "execution_count": 4,
   "id": "a6617664",
   "metadata": {},
   "outputs": [],
   "source": [
    "mu = np.mean(d,axis=0)"
   ]
  },
  {
   "cell_type": "code",
   "execution_count": 5,
   "id": "63183f4e",
   "metadata": {},
   "outputs": [],
   "source": [
    "sigma = np.std(d,axis=0)"
   ]
  },
  {
   "cell_type": "code",
   "execution_count": 6,
   "id": "6d0fabd0",
   "metadata": {},
   "outputs": [],
   "source": [
    "nd = (d-mu)/sigma"
   ]
  },
  {
   "cell_type": "code",
   "execution_count": 7,
   "id": "b026155d",
   "metadata": {},
   "outputs": [
    {
     "data": {
      "text/plain": [
       "array([[ 1.3772253 , -0.06468462, -0.29712993],\n",
       "       [ 0.62752604,  0.90558472, -0.43017319],\n",
       "       [ 1.04402563, -1.03495396,  1.16634586],\n",
       "       [-0.28877305,  1.39071939, -0.09756505],\n",
       "       [-0.70527263, -0.54981929, -1.09538946],\n",
       "       [-1.20507214,  1.87585406, -0.76278132],\n",
       "       [-1.0384723 , -0.06468462,  1.69851888],\n",
       "       [-0.95517238, -0.54981929, -0.16408668],\n",
       "       [ 1.46052522,  0.42045005, -0.16408668],\n",
       "       [ 1.12732555, -0.54981929,  1.63199725],\n",
       "       [-0.37207296,  1.39071939,  1.49895399],\n",
       "       [ 0.12772654, -1.52008863, -1.29495434],\n",
       "       [-0.45537288,  0.42045005, -0.43017319],\n",
       "       [-1.70487164, -1.03495396,  0.10199983],\n",
       "       [ 0.96072571, -1.03495396, -1.36147597]])"
      ]
     },
     "execution_count": 7,
     "metadata": {},
     "output_type": "execute_result"
    }
   ],
   "source": [
    "nd"
   ]
  },
  {
   "cell_type": "code",
   "execution_count": 8,
   "id": "a2c94e59",
   "metadata": {},
   "outputs": [],
   "source": [
    "cov_matrix = np.cov(nd,rowvar=False)"
   ]
  },
  {
   "cell_type": "code",
   "execution_count": 9,
   "id": "92a27b97",
   "metadata": {},
   "outputs": [
    {
     "data": {
      "text/plain": [
       "array([[ 1.07142857, -0.17300047,  0.0173098 ],\n",
       "       [-0.17300047,  1.07142857,  0.11771577],\n",
       "       [ 0.0173098 ,  0.11771577,  1.07142857]])"
      ]
     },
     "execution_count": 9,
     "metadata": {},
     "output_type": "execute_result"
    }
   ],
   "source": [
    "cov_matrix"
   ]
  },
  {
   "cell_type": "code",
   "execution_count": 10,
   "id": "82695ef9",
   "metadata": {},
   "outputs": [],
   "source": [
    "mu1 = np.mean(nd,axis=0)"
   ]
  },
  {
   "cell_type": "code",
   "execution_count": 11,
   "id": "f90de437",
   "metadata": {},
   "outputs": [],
   "source": [
    "cov_matrix_m = (np.dot((nd-mu1).T,(nd-mu1)))/15"
   ]
  },
  {
   "cell_type": "code",
   "execution_count": 12,
   "id": "817eb951",
   "metadata": {},
   "outputs": [],
   "source": [
    "val,vect = np.linalg.eig(cov_matrix)"
   ]
  },
  {
   "cell_type": "code",
   "execution_count": 13,
   "id": "240f19d4",
   "metadata": {},
   "outputs": [],
   "source": [
    "val1,vect1 = np.linalg.eig(cov_matrix_m)"
   ]
  },
  {
   "cell_type": "code",
   "execution_count": 14,
   "id": "7136b695",
   "metadata": {},
   "outputs": [
    {
     "data": {
      "text/plain": [
       "array([[ 0.58471899,  0.58662215,  0.56033755],\n",
       "       [ 0.69309933, -0.7201875 ,  0.03071292],\n",
       "       [-0.42156497, -0.37041115,  0.82769472]])"
      ]
     },
     "execution_count": 14,
     "metadata": {},
     "output_type": "execute_result"
    }
   ],
   "source": [
    "vect"
   ]
  },
  {
   "cell_type": "code",
   "execution_count": 15,
   "id": "242b8fcb",
   "metadata": {},
   "outputs": [
    {
     "data": {
      "text/plain": [
       "array([0.85388182, 1.2728888 , 1.08751509])"
      ]
     },
     "execution_count": 15,
     "metadata": {},
     "output_type": "execute_result"
    }
   ],
   "source": [
    "val"
   ]
  },
  {
   "cell_type": "code",
   "execution_count": 16,
   "id": "5e8f2be1",
   "metadata": {},
   "outputs": [],
   "source": [
    "w=vect[1:]"
   ]
  },
  {
   "cell_type": "code",
   "execution_count": 17,
   "id": "e3a12bd9",
   "metadata": {},
   "outputs": [
    {
     "data": {
      "text/plain": [
       "array([[ 0.69309933, -0.7201875 ,  0.03071292],\n",
       "       [-0.42156497, -0.37041115,  0.82769472]])"
      ]
     },
     "execution_count": 17,
     "metadata": {},
     "output_type": "execute_result"
    }
   ],
   "source": [
    "w"
   ]
  },
  {
   "cell_type": "code",
   "execution_count": 18,
   "id": "700c91ff",
   "metadata": {},
   "outputs": [],
   "source": [
    "reduced_matrix = np.transpose(np.dot(w,nd.T))"
   ]
  }
 ],
 "metadata": {
  "kernelspec": {
   "display_name": "Python 3 (ipykernel)",
   "language": "python",
   "name": "python3"
  },
  "language_info": {
   "codemirror_mode": {
    "name": "ipython",
    "version": 3
   },
   "file_extension": ".py",
   "mimetype": "text/x-python",
   "name": "python",
   "nbconvert_exporter": "python",
   "pygments_lexer": "ipython3",
   "version": "3.10.7"
  }
 },
 "nbformat": 4,
 "nbformat_minor": 5
}
